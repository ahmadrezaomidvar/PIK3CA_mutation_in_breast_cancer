{
 "cells": [
  {
   "cell_type": "code",
   "execution_count": 30,
   "metadata": {},
   "outputs": [],
   "source": [
    "from chowder.dataset import PIK3CAData, get_train_validation_folds\n",
    "from chowder.constant import PACKAGE_ROOT_PATH\n",
    "from chowder.utils.utils import make_dataset, make_model, make_optimizer, make_loss, get_device\n",
    "import torch\n",
    "from torch import nn"
   ]
  },
  {
   "cell_type": "code",
   "execution_count": 8,
   "metadata": {},
   "outputs": [],
   "source": [
    "root = PACKAGE_ROOT_PATH.parent / 'data'\n",
    "config = {\n",
    "            \"root\": str(root),\n",
    "            \"reduce_method\": \"minmax\",\n",
    "            \"n_kernels\": 1,\n",
    "            \"retained_features\": 5,\n",
    "            \"quantiles\": [0.25, 0.75],\n",
    "            \"n_first_mlp_neurons\": 200,\n",
    "            \"n_second_mlp_neurons\": 100,\n",
    "            \"features_dim\": 2048,\n",
    "            \"seed\": 1221,\n",
    "            \"n_splits\": 2,\n",
    "            \"batch_size\": 4,\n",
    "            \"lr\": 0.001,\n",
    "            \"num_epochs\": 1,\n",
    "            'l2_reg': 0.0,\n",
    "            \"dropout\": 0.0,\n",
    "            \"n_ensemble\": 1,\n",
    "        }"
   ]
  },
  {
   "cell_type": "code",
   "execution_count": 26,
   "metadata": {},
   "outputs": [
    {
     "data": {
      "text/plain": [
       "Chowder(\n",
       "  (embedding_layer): Conv1d(2048, 1, kernel_size=(1,), stride=(1,))\n",
       "  (reduce_layer): MinMaxModule()\n",
       "  (mlp): Sequential(\n",
       "    (0): Linear(in_features=10, out_features=200, bias=True)\n",
       "    (1): Sigmoid()\n",
       "    (2): Dropout(p=0.0, inplace=False)\n",
       "    (3): Linear(in_features=200, out_features=100, bias=True)\n",
       "    (4): Sigmoid()\n",
       "    (5): Dropout(p=0.0, inplace=False)\n",
       "    (6): Linear(in_features=100, out_features=2, bias=True)\n",
       "  )\n",
       ")"
      ]
     },
     "execution_count": 26,
     "metadata": {},
     "output_type": "execute_result"
    }
   ],
   "source": [
    "model = make_model(config)\n",
    "model"
   ]
  },
  {
   "cell_type": "code",
   "execution_count": 23,
   "metadata": {},
   "outputs": [
    {
     "data": {
      "text/plain": [
       "torch.Size([2048, 1000])"
      ]
     },
     "execution_count": 23,
     "metadata": {},
     "output_type": "execute_result"
    }
   ],
   "source": [
    "test_data = PIK3CAData(sample_ids=None, targets=None, root=config[\"root\"], type=\"test\")\n",
    "test_data_loader = make_dataset(config, type=\"test\")\n",
    "x, id = next(iter(test_data_loader))\n"
   ]
  },
  {
   "cell_type": "code",
   "execution_count": 34,
   "metadata": {},
   "outputs": [
    {
     "name": "stdout",
     "output_type": "stream",
     "text": [
      "tensor([0.1525, 0.0000, 0.2410,  ..., 0.0067, 0.0191, 0.0000])\n",
      "tensor([[0.3484, 0.1830],\n",
      "        [0.3482, 0.1831],\n",
      "        [0.3486, 0.1832],\n",
      "        [0.3477, 0.1831],\n",
      "        [0.3488, 0.1833]], grad_fn=<AddmmBackward0>)\n"
     ]
    },
    {
     "ename": "TypeError",
     "evalue": "softmax() received an invalid combination of arguments - got (), but expected one of:\n * (Tensor input, int dim, torch.dtype dtype)\n * (Tensor input, name dim, *, torch.dtype dtype)\n",
     "output_type": "error",
     "traceback": [
      "\u001b[0;31m---------------------------------------------------------------------------\u001b[0m",
      "\u001b[0;31mTypeError\u001b[0m                                 Traceback (most recent call last)",
      "Cell \u001b[0;32mIn[34], line 4\u001b[0m\n\u001b[1;32m      2\u001b[0m output \u001b[39m=\u001b[39m model(x)\n\u001b[1;32m      3\u001b[0m \u001b[39mprint\u001b[39m(output)\n\u001b[0;32m----> 4\u001b[0m output \u001b[39m=\u001b[39m torch\u001b[39m.\u001b[39;49msoftmax()(output)\n\u001b[1;32m      5\u001b[0m \u001b[39mprint\u001b[39m(output)\n",
      "\u001b[0;31mTypeError\u001b[0m: softmax() received an invalid combination of arguments - got (), but expected one of:\n * (Tensor input, int dim, torch.dtype dtype)\n * (Tensor input, name dim, *, torch.dtype dtype)\n"
     ]
    }
   ],
   "source": [
    "print(x[0][:, 0])\n",
    "output = model(x)\n",
    "print(output)\n",
    "output = torch.softmax()(output)\n",
    "print(output)"
   ]
  },
  {
   "cell_type": "code",
   "execution_count": 35,
   "metadata": {},
   "outputs": [
    {
     "ename": "TypeError",
     "evalue": "'module' object is not callable",
     "output_type": "error",
     "traceback": [
      "\u001b[0;31m---------------------------------------------------------------------------\u001b[0m",
      "\u001b[0;31mTypeError\u001b[0m                                 Traceback (most recent call last)",
      "Cell \u001b[0;32mIn[35], line 1\u001b[0m\n\u001b[0;32m----> 1\u001b[0m \u001b[39minput\u001b[39m \u001b[39m=\u001b[39m torch\u001b[39m.\u001b[39;49mrandom(\u001b[39m5\u001b[39;49m, \u001b[39m2\u001b[39;49m)\n\u001b[1;32m      2\u001b[0m \u001b[39minput\u001b[39m\n",
      "\u001b[0;31mTypeError\u001b[0m: 'module' object is not callable"
     ]
    }
   ],
   "source": [
    "input = torch.random(5, 2)\n",
    "input"
   ]
  }
 ],
 "metadata": {
  "kernelspec": {
   "display_name": "Python 3",
   "language": "python",
   "name": "python3"
  },
  "language_info": {
   "codemirror_mode": {
    "name": "ipython",
    "version": 3
   },
   "file_extension": ".py",
   "mimetype": "text/x-python",
   "name": "python",
   "nbconvert_exporter": "python",
   "pygments_lexer": "ipython3",
   "version": "3.9.16"
  },
  "orig_nbformat": 4,
  "vscode": {
   "interpreter": {
    "hash": "718d91b68a69e1dfb2c3479fc83816ad032a508bbe3882bf38c55bb931b394be"
   }
  }
 },
 "nbformat": 4,
 "nbformat_minor": 2
}
